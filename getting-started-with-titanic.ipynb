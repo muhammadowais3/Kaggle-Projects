{
 "cells": [
  {
   "cell_type": "code",
   "execution_count": 1,
   "id": "b5d9b42a",
   "metadata": {
    "_cell_guid": "b1076dfc-b9ad-4769-8c92-a6c4dae69d19",
    "_uuid": "8f2839f25d086af736a60e9eeb907d3b93b6e0e5",
    "execution": {
     "iopub.execute_input": "2023-04-20T19:11:55.197083Z",
     "iopub.status.busy": "2023-04-20T19:11:55.196543Z",
     "iopub.status.idle": "2023-04-20T19:11:55.223408Z",
     "shell.execute_reply": "2023-04-20T19:11:55.222513Z"
    },
    "papermill": {
     "duration": 0.037217,
     "end_time": "2023-04-20T19:11:55.226279",
     "exception": false,
     "start_time": "2023-04-20T19:11:55.189062",
     "status": "completed"
    },
    "tags": []
   },
   "outputs": [
    {
     "name": "stdout",
     "output_type": "stream",
     "text": [
      "/kaggle/input/titanic/train.csv\n",
      "/kaggle/input/titanic/test.csv\n",
      "/kaggle/input/titanic/gender_submission.csv\n"
     ]
    }
   ],
   "source": [
    "# This Python 3 environment comes with many helpful analytics libraries installed\n",
    "# It is defined by the kaggle/python Docker image: https://github.com/kaggle/docker-python\n",
    "# For example, here's several helpful packages to load\n",
    "\n",
    "import numpy as np # linear algebra\n",
    "import pandas as pd # data processing, CSV file I/O (e.g. pd.read_csv)\n",
    "\n",
    "# Input data files are available in the read-only \"../input/\" directory\n",
    "# For example, running this (by clicking run or pressing Shift+Enter) will list all files under the input directory\n",
    "\n",
    "import os\n",
    "for dirname, _, filenames in os.walk('/kaggle/input'):\n",
    "    for filename in filenames:\n",
    "        print(os.path.join(dirname, filename))\n",
    "\n",
    "# You can write up to 20GB to the current directory (/kaggle/working/) that gets preserved as output when you create a version using \"Save & Run All\" \n",
    "# You can also write temporary files to /kaggle/temp/, but they won't be saved outside of the current session"
   ]
  },
  {
   "cell_type": "code",
   "execution_count": 2,
   "id": "ff7bd06a",
   "metadata": {
    "execution": {
     "iopub.execute_input": "2023-04-20T19:11:55.237041Z",
     "iopub.status.busy": "2023-04-20T19:11:55.236639Z",
     "iopub.status.idle": "2023-04-20T19:11:55.285246Z",
     "shell.execute_reply": "2023-04-20T19:11:55.284078Z"
    },
    "papermill": {
     "duration": 0.056824,
     "end_time": "2023-04-20T19:11:55.287772",
     "exception": false,
     "start_time": "2023-04-20T19:11:55.230948",
     "status": "completed"
    },
    "tags": []
   },
   "outputs": [
    {
     "data": {
      "text/html": [
       "<div>\n",
       "<style scoped>\n",
       "    .dataframe tbody tr th:only-of-type {\n",
       "        vertical-align: middle;\n",
       "    }\n",
       "\n",
       "    .dataframe tbody tr th {\n",
       "        vertical-align: top;\n",
       "    }\n",
       "\n",
       "    .dataframe thead th {\n",
       "        text-align: right;\n",
       "    }\n",
       "</style>\n",
       "<table border=\"1\" class=\"dataframe\">\n",
       "  <thead>\n",
       "    <tr style=\"text-align: right;\">\n",
       "      <th></th>\n",
       "      <th>PassengerId</th>\n",
       "      <th>Survived</th>\n",
       "      <th>Pclass</th>\n",
       "      <th>Name</th>\n",
       "      <th>Sex</th>\n",
       "      <th>Age</th>\n",
       "      <th>SibSp</th>\n",
       "      <th>Parch</th>\n",
       "      <th>Ticket</th>\n",
       "      <th>Fare</th>\n",
       "      <th>Cabin</th>\n",
       "      <th>Embarked</th>\n",
       "    </tr>\n",
       "  </thead>\n",
       "  <tbody>\n",
       "    <tr>\n",
       "      <th>0</th>\n",
       "      <td>1</td>\n",
       "      <td>0</td>\n",
       "      <td>3</td>\n",
       "      <td>Braund, Mr. Owen Harris</td>\n",
       "      <td>male</td>\n",
       "      <td>22.0</td>\n",
       "      <td>1</td>\n",
       "      <td>0</td>\n",
       "      <td>A/5 21171</td>\n",
       "      <td>7.2500</td>\n",
       "      <td>NaN</td>\n",
       "      <td>S</td>\n",
       "    </tr>\n",
       "    <tr>\n",
       "      <th>1</th>\n",
       "      <td>2</td>\n",
       "      <td>1</td>\n",
       "      <td>1</td>\n",
       "      <td>Cumings, Mrs. John Bradley (Florence Briggs Th...</td>\n",
       "      <td>female</td>\n",
       "      <td>38.0</td>\n",
       "      <td>1</td>\n",
       "      <td>0</td>\n",
       "      <td>PC 17599</td>\n",
       "      <td>71.2833</td>\n",
       "      <td>C85</td>\n",
       "      <td>C</td>\n",
       "    </tr>\n",
       "    <tr>\n",
       "      <th>2</th>\n",
       "      <td>3</td>\n",
       "      <td>1</td>\n",
       "      <td>3</td>\n",
       "      <td>Heikkinen, Miss. Laina</td>\n",
       "      <td>female</td>\n",
       "      <td>26.0</td>\n",
       "      <td>0</td>\n",
       "      <td>0</td>\n",
       "      <td>STON/O2. 3101282</td>\n",
       "      <td>7.9250</td>\n",
       "      <td>NaN</td>\n",
       "      <td>S</td>\n",
       "    </tr>\n",
       "    <tr>\n",
       "      <th>3</th>\n",
       "      <td>4</td>\n",
       "      <td>1</td>\n",
       "      <td>1</td>\n",
       "      <td>Futrelle, Mrs. Jacques Heath (Lily May Peel)</td>\n",
       "      <td>female</td>\n",
       "      <td>35.0</td>\n",
       "      <td>1</td>\n",
       "      <td>0</td>\n",
       "      <td>113803</td>\n",
       "      <td>53.1000</td>\n",
       "      <td>C123</td>\n",
       "      <td>S</td>\n",
       "    </tr>\n",
       "    <tr>\n",
       "      <th>4</th>\n",
       "      <td>5</td>\n",
       "      <td>0</td>\n",
       "      <td>3</td>\n",
       "      <td>Allen, Mr. William Henry</td>\n",
       "      <td>male</td>\n",
       "      <td>35.0</td>\n",
       "      <td>0</td>\n",
       "      <td>0</td>\n",
       "      <td>373450</td>\n",
       "      <td>8.0500</td>\n",
       "      <td>NaN</td>\n",
       "      <td>S</td>\n",
       "    </tr>\n",
       "  </tbody>\n",
       "</table>\n",
       "</div>"
      ],
      "text/plain": [
       "   PassengerId  Survived  Pclass  \\\n",
       "0            1         0       3   \n",
       "1            2         1       1   \n",
       "2            3         1       3   \n",
       "3            4         1       1   \n",
       "4            5         0       3   \n",
       "\n",
       "                                                Name     Sex   Age  SibSp  \\\n",
       "0                            Braund, Mr. Owen Harris    male  22.0      1   \n",
       "1  Cumings, Mrs. John Bradley (Florence Briggs Th...  female  38.0      1   \n",
       "2                             Heikkinen, Miss. Laina  female  26.0      0   \n",
       "3       Futrelle, Mrs. Jacques Heath (Lily May Peel)  female  35.0      1   \n",
       "4                           Allen, Mr. William Henry    male  35.0      0   \n",
       "\n",
       "   Parch            Ticket     Fare Cabin Embarked  \n",
       "0      0         A/5 21171   7.2500   NaN        S  \n",
       "1      0          PC 17599  71.2833   C85        C  \n",
       "2      0  STON/O2. 3101282   7.9250   NaN        S  \n",
       "3      0            113803  53.1000  C123        S  \n",
       "4      0            373450   8.0500   NaN        S  "
      ]
     },
     "execution_count": 2,
     "metadata": {},
     "output_type": "execute_result"
    }
   ],
   "source": [
    "train_data = pd.read_csv(\"/kaggle/input/titanic/train.csv\")\n",
    "train_data.head()"
   ]
  },
  {
   "cell_type": "code",
   "execution_count": 3,
   "id": "6d8d779c",
   "metadata": {
    "execution": {
     "iopub.execute_input": "2023-04-20T19:11:55.298620Z",
     "iopub.status.busy": "2023-04-20T19:11:55.298241Z",
     "iopub.status.idle": "2023-04-20T19:11:55.360025Z",
     "shell.execute_reply": "2023-04-20T19:11:55.358886Z"
    },
    "papermill": {
     "duration": 0.070121,
     "end_time": "2023-04-20T19:11:55.362626",
     "exception": false,
     "start_time": "2023-04-20T19:11:55.292505",
     "status": "completed"
    },
    "tags": []
   },
   "outputs": [
    {
     "data": {
      "text/html": [
       "<div>\n",
       "<style scoped>\n",
       "    .dataframe tbody tr th:only-of-type {\n",
       "        vertical-align: middle;\n",
       "    }\n",
       "\n",
       "    .dataframe tbody tr th {\n",
       "        vertical-align: top;\n",
       "    }\n",
       "\n",
       "    .dataframe thead th {\n",
       "        text-align: right;\n",
       "    }\n",
       "</style>\n",
       "<table border=\"1\" class=\"dataframe\">\n",
       "  <thead>\n",
       "    <tr style=\"text-align: right;\">\n",
       "      <th></th>\n",
       "      <th>PassengerId</th>\n",
       "      <th>Pclass</th>\n",
       "      <th>Name</th>\n",
       "      <th>Sex</th>\n",
       "      <th>Age</th>\n",
       "      <th>SibSp</th>\n",
       "      <th>Parch</th>\n",
       "      <th>Ticket</th>\n",
       "      <th>Fare</th>\n",
       "      <th>Cabin</th>\n",
       "      <th>Embarked</th>\n",
       "    </tr>\n",
       "  </thead>\n",
       "  <tbody>\n",
       "    <tr>\n",
       "      <th>0</th>\n",
       "      <td>892</td>\n",
       "      <td>3</td>\n",
       "      <td>Kelly, Mr. James</td>\n",
       "      <td>male</td>\n",
       "      <td>34.5</td>\n",
       "      <td>0</td>\n",
       "      <td>0</td>\n",
       "      <td>330911</td>\n",
       "      <td>7.8292</td>\n",
       "      <td>NaN</td>\n",
       "      <td>Q</td>\n",
       "    </tr>\n",
       "    <tr>\n",
       "      <th>1</th>\n",
       "      <td>893</td>\n",
       "      <td>3</td>\n",
       "      <td>Wilkes, Mrs. James (Ellen Needs)</td>\n",
       "      <td>female</td>\n",
       "      <td>47.0</td>\n",
       "      <td>1</td>\n",
       "      <td>0</td>\n",
       "      <td>363272</td>\n",
       "      <td>7.0000</td>\n",
       "      <td>NaN</td>\n",
       "      <td>S</td>\n",
       "    </tr>\n",
       "    <tr>\n",
       "      <th>2</th>\n",
       "      <td>894</td>\n",
       "      <td>2</td>\n",
       "      <td>Myles, Mr. Thomas Francis</td>\n",
       "      <td>male</td>\n",
       "      <td>62.0</td>\n",
       "      <td>0</td>\n",
       "      <td>0</td>\n",
       "      <td>240276</td>\n",
       "      <td>9.6875</td>\n",
       "      <td>NaN</td>\n",
       "      <td>Q</td>\n",
       "    </tr>\n",
       "    <tr>\n",
       "      <th>3</th>\n",
       "      <td>895</td>\n",
       "      <td>3</td>\n",
       "      <td>Wirz, Mr. Albert</td>\n",
       "      <td>male</td>\n",
       "      <td>27.0</td>\n",
       "      <td>0</td>\n",
       "      <td>0</td>\n",
       "      <td>315154</td>\n",
       "      <td>8.6625</td>\n",
       "      <td>NaN</td>\n",
       "      <td>S</td>\n",
       "    </tr>\n",
       "    <tr>\n",
       "      <th>4</th>\n",
       "      <td>896</td>\n",
       "      <td>3</td>\n",
       "      <td>Hirvonen, Mrs. Alexander (Helga E Lindqvist)</td>\n",
       "      <td>female</td>\n",
       "      <td>22.0</td>\n",
       "      <td>1</td>\n",
       "      <td>1</td>\n",
       "      <td>3101298</td>\n",
       "      <td>12.2875</td>\n",
       "      <td>NaN</td>\n",
       "      <td>S</td>\n",
       "    </tr>\n",
       "  </tbody>\n",
       "</table>\n",
       "</div>"
      ],
      "text/plain": [
       "   PassengerId  Pclass                                          Name     Sex  \\\n",
       "0          892       3                              Kelly, Mr. James    male   \n",
       "1          893       3              Wilkes, Mrs. James (Ellen Needs)  female   \n",
       "2          894       2                     Myles, Mr. Thomas Francis    male   \n",
       "3          895       3                              Wirz, Mr. Albert    male   \n",
       "4          896       3  Hirvonen, Mrs. Alexander (Helga E Lindqvist)  female   \n",
       "\n",
       "    Age  SibSp  Parch   Ticket     Fare Cabin Embarked  \n",
       "0  34.5      0      0   330911   7.8292   NaN        Q  \n",
       "1  47.0      1      0   363272   7.0000   NaN        S  \n",
       "2  62.0      0      0   240276   9.6875   NaN        Q  \n",
       "3  27.0      0      0   315154   8.6625   NaN        S  \n",
       "4  22.0      1      1  3101298  12.2875   NaN        S  "
      ]
     },
     "execution_count": 3,
     "metadata": {},
     "output_type": "execute_result"
    }
   ],
   "source": [
    "test_data = pd.read_csv(\"/kaggle/input/titanic/test.csv\")\n",
    "test_data.head()"
   ]
  },
  {
   "cell_type": "code",
   "execution_count": 4,
   "id": "3135c0d4",
   "metadata": {
    "execution": {
     "iopub.execute_input": "2023-04-20T19:11:55.373977Z",
     "iopub.status.busy": "2023-04-20T19:11:55.373528Z",
     "iopub.status.idle": "2023-04-20T19:11:55.385851Z",
     "shell.execute_reply": "2023-04-20T19:11:55.384737Z"
    },
    "papermill": {
     "duration": 0.020535,
     "end_time": "2023-04-20T19:11:55.388075",
     "exception": false,
     "start_time": "2023-04-20T19:11:55.367540",
     "status": "completed"
    },
    "tags": []
   },
   "outputs": [
    {
     "name": "stdout",
     "output_type": "stream",
     "text": [
      "0.7420382165605095\n"
     ]
    }
   ],
   "source": [
    "women = train_data.loc[train_data.Sex == 'female'][\"Survived\"]\n",
    "rate_women = sum(women)/len(women)\n",
    "\n",
    "print(rate_women)"
   ]
  },
  {
   "cell_type": "code",
   "execution_count": 5,
   "id": "dd1a7089",
   "metadata": {
    "execution": {
     "iopub.execute_input": "2023-04-20T19:11:55.399380Z",
     "iopub.status.busy": "2023-04-20T19:11:55.398784Z",
     "iopub.status.idle": "2023-04-20T19:11:55.406985Z",
     "shell.execute_reply": "2023-04-20T19:11:55.405506Z"
    },
    "papermill": {
     "duration": 0.016335,
     "end_time": "2023-04-20T19:11:55.409296",
     "exception": false,
     "start_time": "2023-04-20T19:11:55.392961",
     "status": "completed"
    },
    "tags": []
   },
   "outputs": [
    {
     "name": "stdout",
     "output_type": "stream",
     "text": [
      "0.18890814558058924\n"
     ]
    }
   ],
   "source": [
    "men = train_data.loc[train_data.Sex == 'male'][\"Survived\"]\n",
    "rate_men = sum(men)/len(men)\n",
    "\n",
    "print(rate_men)"
   ]
  },
  {
   "cell_type": "code",
   "execution_count": 6,
   "id": "d9f7f4ee",
   "metadata": {
    "execution": {
     "iopub.execute_input": "2023-04-20T19:11:55.420520Z",
     "iopub.status.busy": "2023-04-20T19:11:55.420143Z",
     "iopub.status.idle": "2023-04-20T19:11:55.428814Z",
     "shell.execute_reply": "2023-04-20T19:11:55.427718Z"
    },
    "papermill": {
     "duration": 0.017125,
     "end_time": "2023-04-20T19:11:55.431321",
     "exception": false,
     "start_time": "2023-04-20T19:11:55.414196",
     "status": "completed"
    },
    "tags": []
   },
   "outputs": [
    {
     "name": "stdout",
     "output_type": "stream",
     "text": [
      "0      0\n",
      "1      1\n",
      "2      1\n",
      "3      1\n",
      "4      0\n",
      "      ..\n",
      "886    0\n",
      "887    1\n",
      "888    0\n",
      "889    1\n",
      "890    0\n",
      "Name: Survived, Length: 891, dtype: int64\n"
     ]
    }
   ],
   "source": [
    "# for age in range(60):\n",
    "ageGreaterthanThirty = train_data.loc[train_data.Cabin != np.nan][\"Survived\"]\n",
    "# ageLessthanThirty = train_data.loc[train_data.Age < age][\"Survived\"]\n",
    "\n",
    "# ageRatioGreater = sum(ageGreaterthanThirty)/len(ageGreaterthanThirty) if len(ageGreaterthanThirty) != 0 else None\n",
    "# ageRatioLess = sum(ageLessthanThirty)/len(ageLessthanThirty) if len(ageLessthanThirty) != 0 else None\n",
    "print(ageGreaterthanThirty)"
   ]
  },
  {
   "cell_type": "code",
   "execution_count": 7,
   "id": "eff7358c",
   "metadata": {
    "execution": {
     "iopub.execute_input": "2023-04-20T19:11:55.443387Z",
     "iopub.status.busy": "2023-04-20T19:11:55.442717Z",
     "iopub.status.idle": "2023-04-20T19:11:55.464618Z",
     "shell.execute_reply": "2023-04-20T19:11:55.463216Z"
    },
    "papermill": {
     "duration": 0.031042,
     "end_time": "2023-04-20T19:11:55.467438",
     "exception": false,
     "start_time": "2023-04-20T19:11:55.436396",
     "status": "completed"
    },
    "tags": []
   },
   "outputs": [],
   "source": [
    "y = train_data[\"Survived\"]\n",
    "\n",
    "features = [\"Pclass\", \"Sex\", \"SibSp\", \"Parch\"]\n",
    "X = pd.get_dummies(train_data[features])\n",
    "X_test = pd.get_dummies(test_data[features])\n"
   ]
  },
  {
   "cell_type": "code",
   "execution_count": 8,
   "id": "1a8eac64",
   "metadata": {
    "execution": {
     "iopub.execute_input": "2023-04-20T19:11:55.479521Z",
     "iopub.status.busy": "2023-04-20T19:11:55.478904Z",
     "iopub.status.idle": "2023-04-20T19:11:55.489846Z",
     "shell.execute_reply": "2023-04-20T19:11:55.488597Z"
    },
    "papermill": {
     "duration": 0.019578,
     "end_time": "2023-04-20T19:11:55.492174",
     "exception": false,
     "start_time": "2023-04-20T19:11:55.472596",
     "status": "completed"
    },
    "tags": []
   },
   "outputs": [
    {
     "data": {
      "text/html": [
       "<div>\n",
       "<style scoped>\n",
       "    .dataframe tbody tr th:only-of-type {\n",
       "        vertical-align: middle;\n",
       "    }\n",
       "\n",
       "    .dataframe tbody tr th {\n",
       "        vertical-align: top;\n",
       "    }\n",
       "\n",
       "    .dataframe thead th {\n",
       "        text-align: right;\n",
       "    }\n",
       "</style>\n",
       "<table border=\"1\" class=\"dataframe\">\n",
       "  <thead>\n",
       "    <tr style=\"text-align: right;\">\n",
       "      <th></th>\n",
       "      <th>Pclass</th>\n",
       "      <th>SibSp</th>\n",
       "      <th>Parch</th>\n",
       "      <th>Sex_female</th>\n",
       "      <th>Sex_male</th>\n",
       "    </tr>\n",
       "  </thead>\n",
       "  <tbody>\n",
       "    <tr>\n",
       "      <th>0</th>\n",
       "      <td>3</td>\n",
       "      <td>1</td>\n",
       "      <td>0</td>\n",
       "      <td>0</td>\n",
       "      <td>1</td>\n",
       "    </tr>\n",
       "    <tr>\n",
       "      <th>1</th>\n",
       "      <td>1</td>\n",
       "      <td>1</td>\n",
       "      <td>0</td>\n",
       "      <td>1</td>\n",
       "      <td>0</td>\n",
       "    </tr>\n",
       "    <tr>\n",
       "      <th>2</th>\n",
       "      <td>3</td>\n",
       "      <td>0</td>\n",
       "      <td>0</td>\n",
       "      <td>1</td>\n",
       "      <td>0</td>\n",
       "    </tr>\n",
       "    <tr>\n",
       "      <th>3</th>\n",
       "      <td>1</td>\n",
       "      <td>1</td>\n",
       "      <td>0</td>\n",
       "      <td>1</td>\n",
       "      <td>0</td>\n",
       "    </tr>\n",
       "    <tr>\n",
       "      <th>4</th>\n",
       "      <td>3</td>\n",
       "      <td>0</td>\n",
       "      <td>0</td>\n",
       "      <td>0</td>\n",
       "      <td>1</td>\n",
       "    </tr>\n",
       "  </tbody>\n",
       "</table>\n",
       "</div>"
      ],
      "text/plain": [
       "   Pclass  SibSp  Parch  Sex_female  Sex_male\n",
       "0       3      1      0           0         1\n",
       "1       1      1      0           1         0\n",
       "2       3      0      0           1         0\n",
       "3       1      1      0           1         0\n",
       "4       3      0      0           0         1"
      ]
     },
     "execution_count": 8,
     "metadata": {},
     "output_type": "execute_result"
    }
   ],
   "source": [
    "X.head()"
   ]
  },
  {
   "cell_type": "code",
   "execution_count": 9,
   "id": "13216d17",
   "metadata": {
    "execution": {
     "iopub.execute_input": "2023-04-20T19:11:55.504505Z",
     "iopub.status.busy": "2023-04-20T19:11:55.503889Z",
     "iopub.status.idle": "2023-04-20T19:12:03.336562Z",
     "shell.execute_reply": "2023-04-20T19:12:03.335264Z"
    },
    "papermill": {
     "duration": 7.842015,
     "end_time": "2023-04-20T19:12:03.339549",
     "exception": false,
     "start_time": "2023-04-20T19:11:55.497534",
     "status": "completed"
    },
    "tags": []
   },
   "outputs": [],
   "source": [
    "from keras.models import Sequential\n",
    "from keras.layers import Dense, Dropout, BatchNormalization\n",
    "\n",
    "model = Sequential()\n",
    "model.add(Dense(64, input_shape=(5,), activation='relu'))\n",
    "model.add(BatchNormalization())\n",
    "model.add(Dropout(0.7))\n",
    "\n",
    "model.add(Dense(128, activation='relu'))\n",
    "model.add(BatchNormalization())\n",
    "model.add(Dropout(0.7))\n",
    "\n",
    "model.add(Dense(1, activation='sigmoid'))\n",
    "\n",
    "model.compile(loss='binary_crossentropy', optimizer='adam', metrics=['accuracy'])"
   ]
  },
  {
   "cell_type": "code",
   "execution_count": 10,
   "id": "add16a37",
   "metadata": {
    "execution": {
     "iopub.execute_input": "2023-04-20T19:12:03.352681Z",
     "iopub.status.busy": "2023-04-20T19:12:03.351546Z",
     "iopub.status.idle": "2023-04-20T19:12:15.368899Z",
     "shell.execute_reply": "2023-04-20T19:12:15.367880Z"
    },
    "papermill": {
     "duration": 12.026532,
     "end_time": "2023-04-20T19:12:15.371517",
     "exception": false,
     "start_time": "2023-04-20T19:12:03.344985",
     "status": "completed"
    },
    "tags": []
   },
   "outputs": [
    {
     "name": "stdout",
     "output_type": "stream",
     "text": [
      "Epoch 1/100\n",
      "28/28 [==============================] - 2s 3ms/step - loss: 1.0118 - accuracy: 0.5903\n",
      "Epoch 2/100\n",
      "28/28 [==============================] - 0s 2ms/step - loss: 0.7914 - accuracy: 0.6801\n",
      "Epoch 3/100\n",
      "28/28 [==============================] - 0s 2ms/step - loss: 0.7312 - accuracy: 0.6857\n",
      "Epoch 4/100\n",
      "28/28 [==============================] - 0s 2ms/step - loss: 0.7496 - accuracy: 0.7194\n",
      "Epoch 5/100\n",
      "28/28 [==============================] - 0s 2ms/step - loss: 0.7049 - accuracy: 0.7194\n",
      "Epoch 6/100\n",
      "28/28 [==============================] - 0s 2ms/step - loss: 0.6176 - accuracy: 0.7407\n",
      "Epoch 7/100\n",
      "28/28 [==============================] - 0s 2ms/step - loss: 0.6359 - accuracy: 0.7486\n",
      "Epoch 8/100\n",
      "28/28 [==============================] - 0s 2ms/step - loss: 0.6455 - accuracy: 0.7396\n",
      "Epoch 9/100\n",
      "28/28 [==============================] - 0s 2ms/step - loss: 0.6139 - accuracy: 0.7609\n",
      "Epoch 10/100\n",
      "28/28 [==============================] - 0s 2ms/step - loss: 0.6401 - accuracy: 0.7250\n",
      "Epoch 11/100\n",
      "28/28 [==============================] - 0s 3ms/step - loss: 0.6000 - accuracy: 0.7565\n",
      "Epoch 12/100\n",
      "28/28 [==============================] - 0s 2ms/step - loss: 0.5757 - accuracy: 0.7508\n",
      "Epoch 13/100\n",
      "28/28 [==============================] - 0s 3ms/step - loss: 0.5921 - accuracy: 0.7508\n",
      "Epoch 14/100\n",
      "28/28 [==============================] - 0s 2ms/step - loss: 0.5915 - accuracy: 0.7385\n",
      "Epoch 15/100\n",
      "28/28 [==============================] - 0s 2ms/step - loss: 0.5867 - accuracy: 0.7430\n",
      "Epoch 16/100\n",
      "28/28 [==============================] - 0s 2ms/step - loss: 0.5910 - accuracy: 0.7419\n",
      "Epoch 17/100\n",
      "28/28 [==============================] - 0s 2ms/step - loss: 0.5700 - accuracy: 0.7565\n",
      "Epoch 18/100\n",
      "28/28 [==============================] - 0s 2ms/step - loss: 0.5657 - accuracy: 0.7621\n",
      "Epoch 19/100\n",
      "28/28 [==============================] - 0s 2ms/step - loss: 0.5281 - accuracy: 0.7531\n",
      "Epoch 20/100\n",
      "28/28 [==============================] - 0s 2ms/step - loss: 0.5200 - accuracy: 0.7710\n",
      "Epoch 21/100\n",
      "28/28 [==============================] - 0s 2ms/step - loss: 0.5123 - accuracy: 0.7621\n",
      "Epoch 22/100\n",
      "28/28 [==============================] - 0s 2ms/step - loss: 0.5507 - accuracy: 0.7632\n",
      "Epoch 23/100\n",
      "28/28 [==============================] - 0s 2ms/step - loss: 0.5017 - accuracy: 0.7890\n",
      "Epoch 24/100\n",
      "28/28 [==============================] - 0s 2ms/step - loss: 0.4992 - accuracy: 0.7834\n",
      "Epoch 25/100\n",
      "28/28 [==============================] - 0s 2ms/step - loss: 0.5286 - accuracy: 0.7710\n",
      "Epoch 26/100\n",
      "28/28 [==============================] - 0s 2ms/step - loss: 0.5046 - accuracy: 0.7868\n",
      "Epoch 27/100\n",
      "28/28 [==============================] - 0s 2ms/step - loss: 0.5082 - accuracy: 0.7823\n",
      "Epoch 28/100\n",
      "28/28 [==============================] - 0s 2ms/step - loss: 0.5023 - accuracy: 0.7789\n",
      "Epoch 29/100\n",
      "28/28 [==============================] - 0s 2ms/step - loss: 0.4909 - accuracy: 0.7767\n",
      "Epoch 30/100\n",
      "28/28 [==============================] - 0s 2ms/step - loss: 0.4873 - accuracy: 0.7800\n",
      "Epoch 31/100\n",
      "28/28 [==============================] - 0s 2ms/step - loss: 0.4875 - accuracy: 0.7868\n",
      "Epoch 32/100\n",
      "28/28 [==============================] - 0s 2ms/step - loss: 0.5028 - accuracy: 0.7901\n",
      "Epoch 33/100\n",
      "28/28 [==============================] - 0s 2ms/step - loss: 0.4857 - accuracy: 0.7845\n",
      "Epoch 34/100\n",
      "28/28 [==============================] - 0s 2ms/step - loss: 0.4858 - accuracy: 0.7811\n",
      "Epoch 35/100\n",
      "28/28 [==============================] - 0s 2ms/step - loss: 0.4882 - accuracy: 0.7845\n",
      "Epoch 36/100\n",
      "28/28 [==============================] - 0s 2ms/step - loss: 0.4989 - accuracy: 0.7688\n",
      "Epoch 37/100\n",
      "28/28 [==============================] - 0s 2ms/step - loss: 0.4885 - accuracy: 0.7856\n",
      "Epoch 38/100\n",
      "28/28 [==============================] - 0s 3ms/step - loss: 0.4856 - accuracy: 0.7587\n",
      "Epoch 39/100\n",
      "28/28 [==============================] - 0s 2ms/step - loss: 0.4958 - accuracy: 0.7755\n",
      "Epoch 40/100\n",
      "28/28 [==============================] - 0s 2ms/step - loss: 0.4953 - accuracy: 0.7800\n",
      "Epoch 41/100\n",
      "28/28 [==============================] - 0s 2ms/step - loss: 0.4748 - accuracy: 0.7924\n",
      "Epoch 42/100\n",
      "28/28 [==============================] - 0s 2ms/step - loss: 0.4712 - accuracy: 0.7991\n",
      "Epoch 43/100\n",
      "28/28 [==============================] - 0s 2ms/step - loss: 0.4939 - accuracy: 0.7868\n",
      "Epoch 44/100\n",
      "28/28 [==============================] - 0s 2ms/step - loss: 0.4761 - accuracy: 0.7856\n",
      "Epoch 45/100\n",
      "28/28 [==============================] - 0s 2ms/step - loss: 0.4990 - accuracy: 0.7767\n",
      "Epoch 46/100\n",
      "28/28 [==============================] - 0s 2ms/step - loss: 0.4803 - accuracy: 0.7879\n",
      "Epoch 47/100\n",
      "28/28 [==============================] - 0s 2ms/step - loss: 0.4969 - accuracy: 0.7755\n",
      "Epoch 48/100\n",
      "28/28 [==============================] - 0s 2ms/step - loss: 0.4928 - accuracy: 0.7733\n",
      "Epoch 49/100\n",
      "28/28 [==============================] - 0s 2ms/step - loss: 0.4763 - accuracy: 0.7980\n",
      "Epoch 50/100\n",
      "28/28 [==============================] - 0s 2ms/step - loss: 0.4790 - accuracy: 0.7643\n",
      "Epoch 51/100\n",
      "28/28 [==============================] - 0s 2ms/step - loss: 0.4856 - accuracy: 0.7823\n",
      "Epoch 52/100\n",
      "28/28 [==============================] - 0s 2ms/step - loss: 0.4591 - accuracy: 0.7935\n",
      "Epoch 53/100\n",
      "28/28 [==============================] - 0s 2ms/step - loss: 0.4756 - accuracy: 0.7845\n",
      "Epoch 54/100\n",
      "28/28 [==============================] - 0s 2ms/step - loss: 0.4840 - accuracy: 0.7767\n",
      "Epoch 55/100\n",
      "28/28 [==============================] - 0s 2ms/step - loss: 0.4650 - accuracy: 0.7991\n",
      "Epoch 56/100\n",
      "28/28 [==============================] - 0s 2ms/step - loss: 0.4696 - accuracy: 0.7868\n",
      "Epoch 57/100\n",
      "28/28 [==============================] - 0s 2ms/step - loss: 0.4701 - accuracy: 0.7834\n",
      "Epoch 58/100\n",
      "28/28 [==============================] - 0s 2ms/step - loss: 0.4708 - accuracy: 0.7845\n",
      "Epoch 59/100\n",
      "28/28 [==============================] - 0s 2ms/step - loss: 0.4830 - accuracy: 0.7890\n",
      "Epoch 60/100\n",
      "28/28 [==============================] - 0s 2ms/step - loss: 0.4835 - accuracy: 0.7789\n",
      "Epoch 61/100\n",
      "28/28 [==============================] - 0s 2ms/step - loss: 0.4926 - accuracy: 0.7778\n",
      "Epoch 62/100\n",
      "28/28 [==============================] - 0s 2ms/step - loss: 0.4791 - accuracy: 0.7834\n",
      "Epoch 63/100\n",
      "28/28 [==============================] - 0s 2ms/step - loss: 0.4785 - accuracy: 0.7856\n",
      "Epoch 64/100\n",
      "28/28 [==============================] - 0s 2ms/step - loss: 0.4863 - accuracy: 0.7722\n",
      "Epoch 65/100\n",
      "28/28 [==============================] - 0s 2ms/step - loss: 0.4779 - accuracy: 0.7879\n",
      "Epoch 66/100\n",
      "28/28 [==============================] - 0s 2ms/step - loss: 0.4717 - accuracy: 0.7811\n",
      "Epoch 67/100\n",
      "28/28 [==============================] - 0s 2ms/step - loss: 0.4783 - accuracy: 0.7767\n",
      "Epoch 68/100\n",
      "28/28 [==============================] - 0s 2ms/step - loss: 0.4782 - accuracy: 0.8025\n",
      "Epoch 69/100\n",
      "28/28 [==============================] - 0s 2ms/step - loss: 0.4638 - accuracy: 0.7879\n",
      "Epoch 70/100\n",
      "28/28 [==============================] - 0s 2ms/step - loss: 0.4864 - accuracy: 0.7744\n",
      "Epoch 71/100\n",
      "28/28 [==============================] - 0s 2ms/step - loss: 0.4772 - accuracy: 0.7879\n",
      "Epoch 72/100\n",
      "28/28 [==============================] - 0s 2ms/step - loss: 0.4913 - accuracy: 0.7677\n",
      "Epoch 73/100\n",
      "28/28 [==============================] - 0s 2ms/step - loss: 0.4721 - accuracy: 0.7879\n",
      "Epoch 74/100\n",
      "28/28 [==============================] - 0s 2ms/step - loss: 0.4780 - accuracy: 0.7823\n",
      "Epoch 75/100\n",
      "28/28 [==============================] - 0s 2ms/step - loss: 0.4757 - accuracy: 0.7912\n",
      "Epoch 76/100\n",
      "28/28 [==============================] - 0s 2ms/step - loss: 0.4722 - accuracy: 0.7845\n",
      "Epoch 77/100\n",
      "28/28 [==============================] - 0s 2ms/step - loss: 0.4615 - accuracy: 0.7800\n",
      "Epoch 78/100\n",
      "28/28 [==============================] - 0s 2ms/step - loss: 0.4804 - accuracy: 0.7924\n",
      "Epoch 79/100\n",
      "28/28 [==============================] - 0s 2ms/step - loss: 0.4776 - accuracy: 0.7901\n",
      "Epoch 80/100\n",
      "28/28 [==============================] - 0s 2ms/step - loss: 0.4680 - accuracy: 0.7856\n",
      "Epoch 81/100\n",
      "28/28 [==============================] - 0s 2ms/step - loss: 0.4566 - accuracy: 0.8036\n",
      "Epoch 82/100\n",
      "28/28 [==============================] - 0s 2ms/step - loss: 0.4742 - accuracy: 0.7778\n",
      "Epoch 83/100\n",
      "28/28 [==============================] - 0s 2ms/step - loss: 0.4667 - accuracy: 0.7811\n",
      "Epoch 84/100\n",
      "28/28 [==============================] - 0s 2ms/step - loss: 0.4577 - accuracy: 0.7991\n",
      "Epoch 85/100\n",
      "28/28 [==============================] - 0s 2ms/step - loss: 0.4668 - accuracy: 0.7912\n",
      "Epoch 86/100\n",
      "28/28 [==============================] - 0s 2ms/step - loss: 0.4679 - accuracy: 0.7901\n",
      "Epoch 87/100\n",
      "28/28 [==============================] - 0s 2ms/step - loss: 0.4727 - accuracy: 0.7980\n",
      "Epoch 88/100\n",
      "28/28 [==============================] - 0s 2ms/step - loss: 0.4584 - accuracy: 0.7901\n",
      "Epoch 89/100\n",
      "28/28 [==============================] - 0s 2ms/step - loss: 0.4710 - accuracy: 0.7823\n",
      "Epoch 90/100\n",
      "28/28 [==============================] - 0s 2ms/step - loss: 0.4635 - accuracy: 0.7946\n",
      "Epoch 91/100\n",
      "28/28 [==============================] - 0s 2ms/step - loss: 0.4832 - accuracy: 0.8092\n",
      "Epoch 92/100\n",
      "28/28 [==============================] - 0s 2ms/step - loss: 0.4601 - accuracy: 0.7901\n",
      "Epoch 93/100\n",
      "28/28 [==============================] - 0s 2ms/step - loss: 0.4544 - accuracy: 0.7890\n",
      "Epoch 94/100\n",
      "28/28 [==============================] - 0s 2ms/step - loss: 0.4639 - accuracy: 0.8002\n",
      "Epoch 95/100\n",
      "28/28 [==============================] - 0s 3ms/step - loss: 0.4524 - accuracy: 0.7924\n",
      "Epoch 96/100\n",
      "28/28 [==============================] - 0s 2ms/step - loss: 0.4716 - accuracy: 0.7879\n",
      "Epoch 97/100\n",
      "28/28 [==============================] - 0s 2ms/step - loss: 0.4632 - accuracy: 0.8025\n",
      "Epoch 98/100\n",
      "28/28 [==============================] - 0s 2ms/step - loss: 0.4753 - accuracy: 0.7957\n",
      "Epoch 99/100\n",
      "28/28 [==============================] - 0s 2ms/step - loss: 0.4629 - accuracy: 0.7890\n",
      "Epoch 100/100\n",
      "28/28 [==============================] - 0s 2ms/step - loss: 0.4711 - accuracy: 0.7879\n"
     ]
    },
    {
     "data": {
      "text/plain": [
       "<keras.callbacks.History at 0x722a0448ec10>"
      ]
     },
     "execution_count": 10,
     "metadata": {},
     "output_type": "execute_result"
    }
   ],
   "source": [
    "\n",
    "model.fit(X, y, epochs= 100)"
   ]
  },
  {
   "cell_type": "code",
   "execution_count": 11,
   "id": "d46bdee5",
   "metadata": {
    "execution": {
     "iopub.execute_input": "2023-04-20T19:12:15.435267Z",
     "iopub.status.busy": "2023-04-20T19:12:15.434036Z",
     "iopub.status.idle": "2023-04-20T19:12:15.668939Z",
     "shell.execute_reply": "2023-04-20T19:12:15.667840Z"
    },
    "papermill": {
     "duration": 0.269648,
     "end_time": "2023-04-20T19:12:15.671978",
     "exception": false,
     "start_time": "2023-04-20T19:12:15.402330",
     "status": "completed"
    },
    "tags": []
   },
   "outputs": [
    {
     "name": "stdout",
     "output_type": "stream",
     "text": [
      "14/14 [==============================] - 0s 1ms/step\n"
     ]
    }
   ],
   "source": [
    "predictions = model.predict(X_test)\n"
   ]
  },
  {
   "cell_type": "code",
   "execution_count": 12,
   "id": "363f9576",
   "metadata": {
    "execution": {
     "iopub.execute_input": "2023-04-20T19:12:15.735214Z",
     "iopub.status.busy": "2023-04-20T19:12:15.733938Z",
     "iopub.status.idle": "2023-04-20T19:12:15.740955Z",
     "shell.execute_reply": "2023-04-20T19:12:15.740018Z"
    },
    "papermill": {
     "duration": 0.040849,
     "end_time": "2023-04-20T19:12:15.743344",
     "exception": false,
     "start_time": "2023-04-20T19:12:15.702495",
     "status": "completed"
    },
    "tags": []
   },
   "outputs": [],
   "source": [
    "# output = pd.DataFrame({'PassengerId': test_data.PassengerId, 'Survived': predictions})\n",
    "output = pd.DataFrame({'PassengerId': test_data.PassengerId, 'Survived': np.ravel(predictions)})"
   ]
  },
  {
   "cell_type": "code",
   "execution_count": 13,
   "id": "d445946b",
   "metadata": {
    "execution": {
     "iopub.execute_input": "2023-04-20T19:12:15.805084Z",
     "iopub.status.busy": "2023-04-20T19:12:15.803971Z",
     "iopub.status.idle": "2023-04-20T19:12:15.810840Z",
     "shell.execute_reply": "2023-04-20T19:12:15.809647Z"
    },
    "papermill": {
     "duration": 0.040022,
     "end_time": "2023-04-20T19:12:15.813036",
     "exception": false,
     "start_time": "2023-04-20T19:12:15.773014",
     "status": "completed"
    },
    "tags": []
   },
   "outputs": [
    {
     "name": "stdout",
     "output_type": "stream",
     "text": [
      "0.39215429165093096\n"
     ]
    }
   ],
   "source": [
    "print (sum(output[\"Survived\"])/len(output[\"Survived\"]))"
   ]
  },
  {
   "cell_type": "code",
   "execution_count": 14,
   "id": "df8be905",
   "metadata": {
    "execution": {
     "iopub.execute_input": "2023-04-20T19:12:15.875777Z",
     "iopub.status.busy": "2023-04-20T19:12:15.874552Z",
     "iopub.status.idle": "2023-04-20T19:12:15.887709Z",
     "shell.execute_reply": "2023-04-20T19:12:15.886308Z"
    },
    "papermill": {
     "duration": 0.047159,
     "end_time": "2023-04-20T19:12:15.890308",
     "exception": false,
     "start_time": "2023-04-20T19:12:15.843149",
     "status": "completed"
    },
    "tags": []
   },
   "outputs": [
    {
     "name": "stdout",
     "output_type": "stream",
     "text": [
      "Your submission was successfully saved!\n"
     ]
    }
   ],
   "source": [
    "output.to_csv('submission.csv', index=False)\n",
    "print(\"Your submission was successfully saved!\")"
   ]
  },
  {
   "cell_type": "code",
   "execution_count": null,
   "id": "0df64395",
   "metadata": {
    "papermill": {
     "duration": 0.029689,
     "end_time": "2023-04-20T19:12:15.950434",
     "exception": false,
     "start_time": "2023-04-20T19:12:15.920745",
     "status": "completed"
    },
    "tags": []
   },
   "outputs": [],
   "source": []
  }
 ],
 "metadata": {
  "kernelspec": {
   "display_name": "Python 3",
   "language": "python",
   "name": "python3"
  },
  "language_info": {
   "codemirror_mode": {
    "name": "ipython",
    "version": 3
   },
   "file_extension": ".py",
   "mimetype": "text/x-python",
   "name": "python",
   "nbconvert_exporter": "python",
   "pygments_lexer": "ipython3",
   "version": "3.7.12"
  },
  "papermill": {
   "default_parameters": {},
   "duration": 34.047478,
   "end_time": "2023-04-20T19:12:18.733269",
   "environment_variables": {},
   "exception": null,
   "input_path": "__notebook__.ipynb",
   "output_path": "__notebook__.ipynb",
   "parameters": {},
   "start_time": "2023-04-20T19:11:44.685791",
   "version": "2.4.0"
  }
 },
 "nbformat": 4,
 "nbformat_minor": 5
}
