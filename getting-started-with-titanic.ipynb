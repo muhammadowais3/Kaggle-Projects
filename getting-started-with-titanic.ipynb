{
 "cells": [
  {
   "cell_type": "code",
   "execution_count": 1,
   "id": "41f4fe75",
   "metadata": {
    "_cell_guid": "b1076dfc-b9ad-4769-8c92-a6c4dae69d19",
    "_uuid": "8f2839f25d086af736a60e9eeb907d3b93b6e0e5",
    "execution": {
     "iopub.execute_input": "2023-04-20T18:30:53.229219Z",
     "iopub.status.busy": "2023-04-20T18:30:53.228390Z",
     "iopub.status.idle": "2023-04-20T18:30:53.241475Z",
     "shell.execute_reply": "2023-04-20T18:30:53.240229Z"
    },
    "papermill": {
     "duration": 0.022934,
     "end_time": "2023-04-20T18:30:53.244348",
     "exception": false,
     "start_time": "2023-04-20T18:30:53.221414",
     "status": "completed"
    },
    "tags": []
   },
   "outputs": [
    {
     "name": "stdout",
     "output_type": "stream",
     "text": [
      "/kaggle/input/titanic/train.csv\n",
      "/kaggle/input/titanic/test.csv\n",
      "/kaggle/input/titanic/gender_submission.csv\n"
     ]
    }
   ],
   "source": [
    "# This Python 3 environment comes with many helpful analytics libraries installed\n",
    "# It is defined by the kaggle/python Docker image: https://github.com/kaggle/docker-python\n",
    "# For example, here's several helpful packages to load\n",
    "\n",
    "import numpy as np # linear algebra\n",
    "import pandas as pd # data processing, CSV file I/O (e.g. pd.read_csv)\n",
    "\n",
    "# Input data files are available in the read-only \"../input/\" directory\n",
    "# For example, running this (by clicking run or pressing Shift+Enter) will list all files under the input directory\n",
    "\n",
    "import os\n",
    "for dirname, _, filenames in os.walk('/kaggle/input'):\n",
    "    for filename in filenames:\n",
    "        print(os.path.join(dirname, filename))\n",
    "\n",
    "# You can write up to 20GB to the current directory (/kaggle/working/) that gets preserved as output when you create a version using \"Save & Run All\" \n",
    "# You can also write temporary files to /kaggle/temp/, but they won't be saved outside of the current session"
   ]
  },
  {
   "cell_type": "code",
   "execution_count": 2,
   "id": "61b1a293",
   "metadata": {
    "execution": {
     "iopub.execute_input": "2023-04-20T18:30:53.254743Z",
     "iopub.status.busy": "2023-04-20T18:30:53.254073Z",
     "iopub.status.idle": "2023-04-20T18:30:53.297525Z",
     "shell.execute_reply": "2023-04-20T18:30:53.296228Z"
    },
    "papermill": {
     "duration": 0.051533,
     "end_time": "2023-04-20T18:30:53.300155",
     "exception": false,
     "start_time": "2023-04-20T18:30:53.248622",
     "status": "completed"
    },
    "tags": []
   },
   "outputs": [
    {
     "data": {
      "text/html": [
       "<div>\n",
       "<style scoped>\n",
       "    .dataframe tbody tr th:only-of-type {\n",
       "        vertical-align: middle;\n",
       "    }\n",
       "\n",
       "    .dataframe tbody tr th {\n",
       "        vertical-align: top;\n",
       "    }\n",
       "\n",
       "    .dataframe thead th {\n",
       "        text-align: right;\n",
       "    }\n",
       "</style>\n",
       "<table border=\"1\" class=\"dataframe\">\n",
       "  <thead>\n",
       "    <tr style=\"text-align: right;\">\n",
       "      <th></th>\n",
       "      <th>PassengerId</th>\n",
       "      <th>Survived</th>\n",
       "      <th>Pclass</th>\n",
       "      <th>Name</th>\n",
       "      <th>Sex</th>\n",
       "      <th>Age</th>\n",
       "      <th>SibSp</th>\n",
       "      <th>Parch</th>\n",
       "      <th>Ticket</th>\n",
       "      <th>Fare</th>\n",
       "      <th>Cabin</th>\n",
       "      <th>Embarked</th>\n",
       "    </tr>\n",
       "  </thead>\n",
       "  <tbody>\n",
       "    <tr>\n",
       "      <th>0</th>\n",
       "      <td>1</td>\n",
       "      <td>0</td>\n",
       "      <td>3</td>\n",
       "      <td>Braund, Mr. Owen Harris</td>\n",
       "      <td>male</td>\n",
       "      <td>22.0</td>\n",
       "      <td>1</td>\n",
       "      <td>0</td>\n",
       "      <td>A/5 21171</td>\n",
       "      <td>7.2500</td>\n",
       "      <td>NaN</td>\n",
       "      <td>S</td>\n",
       "    </tr>\n",
       "    <tr>\n",
       "      <th>1</th>\n",
       "      <td>2</td>\n",
       "      <td>1</td>\n",
       "      <td>1</td>\n",
       "      <td>Cumings, Mrs. John Bradley (Florence Briggs Th...</td>\n",
       "      <td>female</td>\n",
       "      <td>38.0</td>\n",
       "      <td>1</td>\n",
       "      <td>0</td>\n",
       "      <td>PC 17599</td>\n",
       "      <td>71.2833</td>\n",
       "      <td>C85</td>\n",
       "      <td>C</td>\n",
       "    </tr>\n",
       "    <tr>\n",
       "      <th>2</th>\n",
       "      <td>3</td>\n",
       "      <td>1</td>\n",
       "      <td>3</td>\n",
       "      <td>Heikkinen, Miss. Laina</td>\n",
       "      <td>female</td>\n",
       "      <td>26.0</td>\n",
       "      <td>0</td>\n",
       "      <td>0</td>\n",
       "      <td>STON/O2. 3101282</td>\n",
       "      <td>7.9250</td>\n",
       "      <td>NaN</td>\n",
       "      <td>S</td>\n",
       "    </tr>\n",
       "    <tr>\n",
       "      <th>3</th>\n",
       "      <td>4</td>\n",
       "      <td>1</td>\n",
       "      <td>1</td>\n",
       "      <td>Futrelle, Mrs. Jacques Heath (Lily May Peel)</td>\n",
       "      <td>female</td>\n",
       "      <td>35.0</td>\n",
       "      <td>1</td>\n",
       "      <td>0</td>\n",
       "      <td>113803</td>\n",
       "      <td>53.1000</td>\n",
       "      <td>C123</td>\n",
       "      <td>S</td>\n",
       "    </tr>\n",
       "    <tr>\n",
       "      <th>4</th>\n",
       "      <td>5</td>\n",
       "      <td>0</td>\n",
       "      <td>3</td>\n",
       "      <td>Allen, Mr. William Henry</td>\n",
       "      <td>male</td>\n",
       "      <td>35.0</td>\n",
       "      <td>0</td>\n",
       "      <td>0</td>\n",
       "      <td>373450</td>\n",
       "      <td>8.0500</td>\n",
       "      <td>NaN</td>\n",
       "      <td>S</td>\n",
       "    </tr>\n",
       "  </tbody>\n",
       "</table>\n",
       "</div>"
      ],
      "text/plain": [
       "   PassengerId  Survived  Pclass  \\\n",
       "0            1         0       3   \n",
       "1            2         1       1   \n",
       "2            3         1       3   \n",
       "3            4         1       1   \n",
       "4            5         0       3   \n",
       "\n",
       "                                                Name     Sex   Age  SibSp  \\\n",
       "0                            Braund, Mr. Owen Harris    male  22.0      1   \n",
       "1  Cumings, Mrs. John Bradley (Florence Briggs Th...  female  38.0      1   \n",
       "2                             Heikkinen, Miss. Laina  female  26.0      0   \n",
       "3       Futrelle, Mrs. Jacques Heath (Lily May Peel)  female  35.0      1   \n",
       "4                           Allen, Mr. William Henry    male  35.0      0   \n",
       "\n",
       "   Parch            Ticket     Fare Cabin Embarked  \n",
       "0      0         A/5 21171   7.2500   NaN        S  \n",
       "1      0          PC 17599  71.2833   C85        C  \n",
       "2      0  STON/O2. 3101282   7.9250   NaN        S  \n",
       "3      0            113803  53.1000  C123        S  \n",
       "4      0            373450   8.0500   NaN        S  "
      ]
     },
     "execution_count": 2,
     "metadata": {},
     "output_type": "execute_result"
    }
   ],
   "source": [
    "train_data = pd.read_csv(\"/kaggle/input/titanic/train.csv\")\n",
    "train_data.head()"
   ]
  },
  {
   "cell_type": "code",
   "execution_count": 3,
   "id": "795d4303",
   "metadata": {
    "execution": {
     "iopub.execute_input": "2023-04-20T18:30:53.310735Z",
     "iopub.status.busy": "2023-04-20T18:30:53.309896Z",
     "iopub.status.idle": "2023-04-20T18:30:53.333200Z",
     "shell.execute_reply": "2023-04-20T18:30:53.331824Z"
    },
    "papermill": {
     "duration": 0.031218,
     "end_time": "2023-04-20T18:30:53.335814",
     "exception": false,
     "start_time": "2023-04-20T18:30:53.304596",
     "status": "completed"
    },
    "tags": []
   },
   "outputs": [
    {
     "data": {
      "text/html": [
       "<div>\n",
       "<style scoped>\n",
       "    .dataframe tbody tr th:only-of-type {\n",
       "        vertical-align: middle;\n",
       "    }\n",
       "\n",
       "    .dataframe tbody tr th {\n",
       "        vertical-align: top;\n",
       "    }\n",
       "\n",
       "    .dataframe thead th {\n",
       "        text-align: right;\n",
       "    }\n",
       "</style>\n",
       "<table border=\"1\" class=\"dataframe\">\n",
       "  <thead>\n",
       "    <tr style=\"text-align: right;\">\n",
       "      <th></th>\n",
       "      <th>PassengerId</th>\n",
       "      <th>Pclass</th>\n",
       "      <th>Name</th>\n",
       "      <th>Sex</th>\n",
       "      <th>Age</th>\n",
       "      <th>SibSp</th>\n",
       "      <th>Parch</th>\n",
       "      <th>Ticket</th>\n",
       "      <th>Fare</th>\n",
       "      <th>Cabin</th>\n",
       "      <th>Embarked</th>\n",
       "    </tr>\n",
       "  </thead>\n",
       "  <tbody>\n",
       "    <tr>\n",
       "      <th>0</th>\n",
       "      <td>892</td>\n",
       "      <td>3</td>\n",
       "      <td>Kelly, Mr. James</td>\n",
       "      <td>male</td>\n",
       "      <td>34.5</td>\n",
       "      <td>0</td>\n",
       "      <td>0</td>\n",
       "      <td>330911</td>\n",
       "      <td>7.8292</td>\n",
       "      <td>NaN</td>\n",
       "      <td>Q</td>\n",
       "    </tr>\n",
       "    <tr>\n",
       "      <th>1</th>\n",
       "      <td>893</td>\n",
       "      <td>3</td>\n",
       "      <td>Wilkes, Mrs. James (Ellen Needs)</td>\n",
       "      <td>female</td>\n",
       "      <td>47.0</td>\n",
       "      <td>1</td>\n",
       "      <td>0</td>\n",
       "      <td>363272</td>\n",
       "      <td>7.0000</td>\n",
       "      <td>NaN</td>\n",
       "      <td>S</td>\n",
       "    </tr>\n",
       "    <tr>\n",
       "      <th>2</th>\n",
       "      <td>894</td>\n",
       "      <td>2</td>\n",
       "      <td>Myles, Mr. Thomas Francis</td>\n",
       "      <td>male</td>\n",
       "      <td>62.0</td>\n",
       "      <td>0</td>\n",
       "      <td>0</td>\n",
       "      <td>240276</td>\n",
       "      <td>9.6875</td>\n",
       "      <td>NaN</td>\n",
       "      <td>Q</td>\n",
       "    </tr>\n",
       "    <tr>\n",
       "      <th>3</th>\n",
       "      <td>895</td>\n",
       "      <td>3</td>\n",
       "      <td>Wirz, Mr. Albert</td>\n",
       "      <td>male</td>\n",
       "      <td>27.0</td>\n",
       "      <td>0</td>\n",
       "      <td>0</td>\n",
       "      <td>315154</td>\n",
       "      <td>8.6625</td>\n",
       "      <td>NaN</td>\n",
       "      <td>S</td>\n",
       "    </tr>\n",
       "    <tr>\n",
       "      <th>4</th>\n",
       "      <td>896</td>\n",
       "      <td>3</td>\n",
       "      <td>Hirvonen, Mrs. Alexander (Helga E Lindqvist)</td>\n",
       "      <td>female</td>\n",
       "      <td>22.0</td>\n",
       "      <td>1</td>\n",
       "      <td>1</td>\n",
       "      <td>3101298</td>\n",
       "      <td>12.2875</td>\n",
       "      <td>NaN</td>\n",
       "      <td>S</td>\n",
       "    </tr>\n",
       "  </tbody>\n",
       "</table>\n",
       "</div>"
      ],
      "text/plain": [
       "   PassengerId  Pclass                                          Name     Sex  \\\n",
       "0          892       3                              Kelly, Mr. James    male   \n",
       "1          893       3              Wilkes, Mrs. James (Ellen Needs)  female   \n",
       "2          894       2                     Myles, Mr. Thomas Francis    male   \n",
       "3          895       3                              Wirz, Mr. Albert    male   \n",
       "4          896       3  Hirvonen, Mrs. Alexander (Helga E Lindqvist)  female   \n",
       "\n",
       "    Age  SibSp  Parch   Ticket     Fare Cabin Embarked  \n",
       "0  34.5      0      0   330911   7.8292   NaN        Q  \n",
       "1  47.0      1      0   363272   7.0000   NaN        S  \n",
       "2  62.0      0      0   240276   9.6875   NaN        Q  \n",
       "3  27.0      0      0   315154   8.6625   NaN        S  \n",
       "4  22.0      1      1  3101298  12.2875   NaN        S  "
      ]
     },
     "execution_count": 3,
     "metadata": {},
     "output_type": "execute_result"
    }
   ],
   "source": [
    "test_data = pd.read_csv(\"/kaggle/input/titanic/test.csv\")\n",
    "test_data.head()"
   ]
  },
  {
   "cell_type": "code",
   "execution_count": 4,
   "id": "3dd2cf8d",
   "metadata": {
    "execution": {
     "iopub.execute_input": "2023-04-20T18:30:53.347071Z",
     "iopub.status.busy": "2023-04-20T18:30:53.345924Z",
     "iopub.status.idle": "2023-04-20T18:30:53.359079Z",
     "shell.execute_reply": "2023-04-20T18:30:53.358202Z"
    },
    "papermill": {
     "duration": 0.020935,
     "end_time": "2023-04-20T18:30:53.361274",
     "exception": false,
     "start_time": "2023-04-20T18:30:53.340339",
     "status": "completed"
    },
    "tags": []
   },
   "outputs": [
    {
     "name": "stdout",
     "output_type": "stream",
     "text": [
      "0.7420382165605095\n"
     ]
    }
   ],
   "source": [
    "women = train_data.loc[train_data.Sex == 'female'][\"Survived\"]\n",
    "rate_women = sum(women)/len(women)\n",
    "\n",
    "print(rate_women)"
   ]
  },
  {
   "cell_type": "code",
   "execution_count": 5,
   "id": "4b2d3302",
   "metadata": {
    "execution": {
     "iopub.execute_input": "2023-04-20T18:30:53.371966Z",
     "iopub.status.busy": "2023-04-20T18:30:53.371363Z",
     "iopub.status.idle": "2023-04-20T18:30:53.379120Z",
     "shell.execute_reply": "2023-04-20T18:30:53.377793Z"
    },
    "papermill": {
     "duration": 0.015538,
     "end_time": "2023-04-20T18:30:53.381281",
     "exception": false,
     "start_time": "2023-04-20T18:30:53.365743",
     "status": "completed"
    },
    "tags": []
   },
   "outputs": [
    {
     "name": "stdout",
     "output_type": "stream",
     "text": [
      "0.18890814558058924\n"
     ]
    }
   ],
   "source": [
    "men = train_data.loc[train_data.Sex == 'male'][\"Survived\"]\n",
    "rate_men = sum(men)/len(men)\n",
    "\n",
    "print(rate_men)"
   ]
  },
  {
   "cell_type": "code",
   "execution_count": 6,
   "id": "de5b1e17",
   "metadata": {
    "execution": {
     "iopub.execute_input": "2023-04-20T18:30:53.392183Z",
     "iopub.status.busy": "2023-04-20T18:30:53.391776Z",
     "iopub.status.idle": "2023-04-20T18:30:53.471514Z",
     "shell.execute_reply": "2023-04-20T18:30:53.469989Z"
    },
    "papermill": {
     "duration": 0.088275,
     "end_time": "2023-04-20T18:30:53.474101",
     "exception": false,
     "start_time": "2023-04-20T18:30:53.385826",
     "status": "completed"
    },
    "tags": []
   },
   "outputs": [
    {
     "name": "stdout",
     "output_type": "stream",
     "text": [
      "0.4061624649859944 None\n",
      "0.39714285714285713 1.0\n",
      "0.39855072463768115 0.8571428571428571\n",
      "0.39473684210526316 0.625\n",
      "0.39020771513353114 0.6666666666666666\n",
      "0.38656716417910447 0.675\n",
      "0.3853073463268366 0.7045454545454546\n",
      "0.3855421686746988 0.7021276595744681\n",
      "0.38484848484848483 0.68\n",
      "0.38650306748466257 0.6666666666666666\n",
      "0.38769230769230767 0.6129032258064516\n",
      "0.38854489164086686 0.59375\n",
      "0.3875968992248062 0.5735294117647058\n",
      "0.3856920684292379 0.5797101449275363\n",
      "0.38461538461538464 0.5915492957746479\n",
      "0.38193343898573695 0.5769230769230769\n",
      "0.38273615635179153 0.5903614457831325\n",
      "0.3810316139767055 0.55\n",
      "0.3826086956521739 0.5398230088495575\n",
      "0.3836363636363636 0.5035971223021583\n",
      "0.38878504672897196 0.4817073170731707\n",
      "0.3980392156862745 0.45555555555555555\n",
      "0.39751552795031053 0.4264705882352941\n",
      "0.3995726495726496 0.42424242424242425\n",
      "0.39359267734553777 0.41700404858299595\n",
      "0.4019370460048426 0.4244604316546763\n",
      "0.4050632911392405 0.4119601328903654\n",
      "0.3952254641909814 0.40752351097178685\n",
      "0.4034090909090909 0.41839762611275966\n",
      "0.40606060606060607 0.4065934065934066\n",
      "0.4065573770491803 0.40625\n",
      "0.40559440559440557 0.40389294403892945\n",
      "0.39925373134328357 0.40654205607476634\n",
      "0.398406374501992 0.4107142857142857\n",
      "0.3983050847457627 0.4103671706263499\n",
      "0.3824884792626728 0.4091858037578288\n",
      "0.36923076923076925 0.4164989939637827\n",
      "0.3776595744680851 0.41923076923076924\n",
      "0.3728813559322034 0.41634980988593157\n",
      "0.37423312883435583 0.4171322160148976\n",
      "0.36666666666666664 0.41560798548094374\n",
      "0.3732394366197183 0.41519434628975266\n",
      "0.3643410852713178 0.4143356643356643\n",
      "0.3709677419354839 0.4153846153846154\n",
      "0.3739130434782609 0.4135593220338983\n",
      "0.36893203883495146 0.41235392320534225\n",
      "0.3877551020408163 0.4110929853181077\n",
      "0.4157303370786517 0.4090909090909091\n",
      "0.3875 0.4048\n",
      "0.36486486486486486 0.4085173501577287\n",
      "0.34375 0.4109375\n",
      "0.3508771929824561 0.4123076923076923\n",
      "0.3333333333333333 0.410958904109589\n",
      "0.32 0.4117647058823529\n",
      "0.30952380952380953 0.4126506024096386\n",
      "0.3 0.41220238095238093\n",
      "0.2857142857142857 0.41185185185185186\n",
      "0.30303030303030304 0.41237113402061853\n",
      "0.25 0.4111600587371512\n",
      "0.2692307692307692 0.41253644314868804\n"
     ]
    }
   ],
   "source": [
    "for age in range(60):\n",
    "    ageGreaterthanThirty = train_data.loc[train_data.Age > age][\"Survived\"]\n",
    "    ageLessthanThirty = train_data.loc[train_data.Age < age][\"Survived\"]\n",
    "\n",
    "    ageRatioGreater = sum(ageGreaterthanThirty)/len(ageGreaterthanThirty) if len(ageGreaterthanThirty) != 0 else None\n",
    "    ageRatioLess = sum(ageLessthanThirty)/len(ageLessthanThirty) if len(ageLessthanThirty) != 0 else None\n",
    "    print(ageRatioGreater, ageRatioLess)"
   ]
  },
  {
   "cell_type": "code",
   "execution_count": 7,
   "id": "eb443dae",
   "metadata": {
    "execution": {
     "iopub.execute_input": "2023-04-20T18:30:53.485676Z",
     "iopub.status.busy": "2023-04-20T18:30:53.484886Z",
     "iopub.status.idle": "2023-04-20T18:30:53.506857Z",
     "shell.execute_reply": "2023-04-20T18:30:53.505858Z"
    },
    "papermill": {
     "duration": 0.030479,
     "end_time": "2023-04-20T18:30:53.509391",
     "exception": false,
     "start_time": "2023-04-20T18:30:53.478912",
     "status": "completed"
    },
    "tags": []
   },
   "outputs": [],
   "source": [
    "y = train_data[\"Survived\"]\n",
    "\n",
    "features = [\"Pclass\", \"Sex\", \"SibSp\", \"Parch\"]\n",
    "X = pd.get_dummies(train_data[features])\n",
    "X_test = pd.get_dummies(test_data[features])\n"
   ]
  },
  {
   "cell_type": "code",
   "execution_count": 8,
   "id": "7c2ee188",
   "metadata": {
    "execution": {
     "iopub.execute_input": "2023-04-20T18:30:53.521244Z",
     "iopub.status.busy": "2023-04-20T18:30:53.520291Z",
     "iopub.status.idle": "2023-04-20T18:30:55.064752Z",
     "shell.execute_reply": "2023-04-20T18:30:55.063518Z"
    },
    "papermill": {
     "duration": 1.553062,
     "end_time": "2023-04-20T18:30:55.067434",
     "exception": false,
     "start_time": "2023-04-20T18:30:53.514372",
     "status": "completed"
    },
    "tags": []
   },
   "outputs": [
    {
     "data": {
      "text/plain": [
       "RandomForestClassifier(max_depth=5, random_state=1)"
      ]
     },
     "execution_count": 8,
     "metadata": {},
     "output_type": "execute_result"
    }
   ],
   "source": [
    "from sklearn.ensemble import RandomForestClassifier\n",
    "model = RandomForestClassifier(n_estimators=100, max_depth=5, random_state=1)\n",
    "model.fit(X, y)"
   ]
  },
  {
   "cell_type": "code",
   "execution_count": 9,
   "id": "4f8f8790",
   "metadata": {
    "execution": {
     "iopub.execute_input": "2023-04-20T18:30:55.079617Z",
     "iopub.status.busy": "2023-04-20T18:30:55.078702Z",
     "iopub.status.idle": "2023-04-20T18:30:55.100521Z",
     "shell.execute_reply": "2023-04-20T18:30:55.099303Z"
    },
    "papermill": {
     "duration": 0.031092,
     "end_time": "2023-04-20T18:30:55.103454",
     "exception": false,
     "start_time": "2023-04-20T18:30:55.072362",
     "status": "completed"
    },
    "tags": []
   },
   "outputs": [],
   "source": [
    "predictions = model.predict(X_test)\n"
   ]
  },
  {
   "cell_type": "code",
   "execution_count": 10,
   "id": "ad212620",
   "metadata": {
    "execution": {
     "iopub.execute_input": "2023-04-20T18:30:55.117009Z",
     "iopub.status.busy": "2023-04-20T18:30:55.114655Z",
     "iopub.status.idle": "2023-04-20T18:30:55.122633Z",
     "shell.execute_reply": "2023-04-20T18:30:55.121371Z"
    },
    "papermill": {
     "duration": 0.016891,
     "end_time": "2023-04-20T18:30:55.125384",
     "exception": false,
     "start_time": "2023-04-20T18:30:55.108493",
     "status": "completed"
    },
    "tags": []
   },
   "outputs": [],
   "source": [
    "output = pd.DataFrame({'PassengerId': test_data.PassengerId, 'Survived': predictions})"
   ]
  },
  {
   "cell_type": "code",
   "execution_count": 11,
   "id": "d9b4bf15",
   "metadata": {
    "execution": {
     "iopub.execute_input": "2023-04-20T18:30:55.137378Z",
     "iopub.status.busy": "2023-04-20T18:30:55.136683Z",
     "iopub.status.idle": "2023-04-20T18:30:55.143329Z",
     "shell.execute_reply": "2023-04-20T18:30:55.142103Z"
    },
    "papermill": {
     "duration": 0.015253,
     "end_time": "2023-04-20T18:30:55.145643",
     "exception": false,
     "start_time": "2023-04-20T18:30:55.130390",
     "status": "completed"
    },
    "tags": []
   },
   "outputs": [
    {
     "name": "stdout",
     "output_type": "stream",
     "text": [
      "0.35406698564593303\n"
     ]
    }
   ],
   "source": [
    "print (sum(output[\"Survived\"])/len(output[\"Survived\"]))"
   ]
  },
  {
   "cell_type": "code",
   "execution_count": 12,
   "id": "4e076331",
   "metadata": {
    "execution": {
     "iopub.execute_input": "2023-04-20T18:30:55.157711Z",
     "iopub.status.busy": "2023-04-20T18:30:55.157276Z",
     "iopub.status.idle": "2023-04-20T18:30:55.168748Z",
     "shell.execute_reply": "2023-04-20T18:30:55.167348Z"
    },
    "papermill": {
     "duration": 0.020616,
     "end_time": "2023-04-20T18:30:55.171393",
     "exception": false,
     "start_time": "2023-04-20T18:30:55.150777",
     "status": "completed"
    },
    "tags": []
   },
   "outputs": [
    {
     "name": "stdout",
     "output_type": "stream",
     "text": [
      "Your submission was successfully saved!\n"
     ]
    }
   ],
   "source": [
    "output.to_csv('submission.csv', index=False)\n",
    "print(\"Your submission was successfully saved!\")"
   ]
  },
  {
   "cell_type": "code",
   "execution_count": null,
   "id": "9a4dad05",
   "metadata": {
    "papermill": {
     "duration": 0.004757,
     "end_time": "2023-04-20T18:30:55.181196",
     "exception": false,
     "start_time": "2023-04-20T18:30:55.176439",
     "status": "completed"
    },
    "tags": []
   },
   "outputs": [],
   "source": []
  }
 ],
 "metadata": {
  "kernelspec": {
   "display_name": "Python 3",
   "language": "python",
   "name": "python3"
  },
  "language_info": {
   "codemirror_mode": {
    "name": "ipython",
    "version": 3
   },
   "file_extension": ".py",
   "mimetype": "text/x-python",
   "name": "python",
   "nbconvert_exporter": "python",
   "pygments_lexer": "ipython3",
   "version": "3.7.12"
  },
  "papermill": {
   "default_parameters": {},
   "duration": 12.610395,
   "end_time": "2023-04-20T18:30:55.908503",
   "environment_variables": {},
   "exception": null,
   "input_path": "__notebook__.ipynb",
   "output_path": "__notebook__.ipynb",
   "parameters": {},
   "start_time": "2023-04-20T18:30:43.298108",
   "version": "2.4.0"
  }
 },
 "nbformat": 4,
 "nbformat_minor": 5
}
